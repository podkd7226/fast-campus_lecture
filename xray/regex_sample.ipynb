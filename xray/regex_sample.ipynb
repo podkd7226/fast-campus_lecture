{
 "cells": [
  {
   "cell_type": "code",
   "execution_count": 1,
   "id": "f64421ac",
   "metadata": {},
   "outputs": [],
   "source": [
    "import pandas as pd\n",
    "\n",
    "dataset = pd.read_excel(\"./sample.xlsx\")"
   ]
  },
  {
   "cell_type": "code",
   "execution_count": 2,
   "id": "8cfd4877",
   "metadata": {},
   "outputs": [
    {
     "name": "stdout",
     "output_type": "stream",
     "text": [
      "\n",
      "DIAGNOSIS : \n",
      "FA-C) Lung, ( right upper lobe, posterior segment ), segmentectomy:\n",
      "           - INVASIVE ADENOCARCINOMA, MODERATELY DIFFERENTIATED,\n",
      "             PAPILLARY, MULTIPLE (x4), 2.4 x 2 x 2 cm, 0.9 cm IN GREATEST DIMENSION, \n",
      "             0.6 cm IN GREATEST DIMENSION, AND 0.3 cm IN GREATEST DIMENSION,\n",
      "             RIGHT UPPER LOBE POSTERIOR SEGMENT,\n",
      "                 with 1) tumor focality: separate nodules in same lobe (x3)\n",
      "                          2) confinement to lung\n",
      "                          3) pleural invasion: no\n",
      "                          4) lymphovascular invasion: not identified\n",
      "                          5) perineural invasion: not identified\n",
      "                          6) bronchial margin: clear\n",
      "                          7) vascular margin: clear\n",
      "                          8) parenchymal margin: clear\n",
      "                          9) no metastasis in 10 lymph nodes ( 0/10 )\n",
      "                               ( LN #2R, 0/1; LN #4R, 0/5; LN #7, 0/1; LN #10, 0/1; LN #11S, 0/2 ).\n",
      "           - Non-neoplastic lung, no diagnostic abnormalities.\n",
      "\n",
      " \n",
      " \n",
      " \n",
      "* Pathology tumor staging (AJCC 8th edition): pT3  N0  Mx\n",
      "\n",
      "\n"
     ]
    }
   ],
   "source": [
    "print(dataset.iloc[0]['검사결과'])"
   ]
  },
  {
   "cell_type": "code",
   "execution_count": 3,
   "id": "294cfd1b",
   "metadata": {},
   "outputs": [],
   "source": [
    "import re\n",
    "\n",
    "def normalize_loc(s: str) -> str:\n",
    "    s = re.sub(r'\\s+', ' ', s.strip())\n",
    "    s = re.sub(r'\\s*-\\s*margin\\b', '', s, flags=re.I)  # \"- margin\" 제거\n",
    "    s = s.strip(' ,;.')\n",
    "    return s\n",
    "\n",
    "def parse_path(text: str) -> dict:\n",
    "    out = {\"Site\": None, \"수술위치\": None, \"수술방법\": None}\n",
    "\n",
    "    # 1) DIAGNOSIS 섹션 같은 한 줄 패턴: \"Lung, ( right upper lobe, posterior segment ), segmentectomy:\"\n",
    "    m = re.search(\n",
    "        r'(?im)^\\s*(?:[A-Z]{1,3}(?:-[A-Z])?\\)\\s*)?(?P<site>Lung)\\s*,\\s*\\(\\s*(?P<loc>[^)]+?)\\s*\\)\\s*,\\s*(?P<proc>segmentectomy)\\s*:',\n",
    "        text,\n",
    "        flags=re.I | re.M,\n",
    "    )\n",
    "    if m:\n",
    "        out[\"Site\"] = m.group(\"site\").strip().title()\n",
    "        out[\"수술위치\"] = normalize_loc(m.group(\"loc\"))\n",
    "        out[\"수술방법\"] = m.group(\"proc\").strip().lower()\n",
    "        return out\n",
    "\n",
    "    # 2) Procedure 라인 보조\n",
    "    m_proc = re.search(r'(?im)^\\s*Procedure\\s*:\\s*(?P<proc>[^\\n]+)', text)\n",
    "    if m_proc:\n",
    "        out[\"수술방법\"] = m_proc.group(\"proc\").strip().lower()\n",
    "\n",
    "    # 3) Specimen 라인 보조: \"Specimen: Lung (upper lobe) (posterior segment- margin)\"\n",
    "    m_spec = re.search(\n",
    "        r'(?im)^\\s*Specimen\\s*:\\s*(?P<site>Lung)\\s*\\(\\s*(?P<lobe>[^)]+)\\)\\s*\\(\\s*(?P<seg>[^)]+)\\)',\n",
    "        text,\n",
    "    )\n",
    "    if m_spec:\n",
    "        out[\"Site\"] = m_spec.group(\"site\").strip().title()\n",
    "        lobe = normalize_loc(m_spec.group(\"lobe\"))\n",
    "        seg = normalize_loc(m_spec.group(\"seg\"))\n",
    "        out[\"수술위치\"] = normalize_loc(f\"{lobe}, {seg}\")\n",
    "\n",
    "    # 4) DIAGNOSIS 라인에서 Site/위치만 별도로 보조 추출 (콜론 없이 끝나는 경우 고려)\n",
    "    if not out[\"Site\"] or not out[\"수술위치\"]:\n",
    "        m_diag = re.search(\n",
    "            r'(?im)\\bLung\\s*,\\s*\\(\\s*(?P<loc>[^)]+?)\\s*\\)',\n",
    "            text,\n",
    "        )\n",
    "        if m_diag:\n",
    "            out[\"Site\"] = out[\"Site\"] or \"Lung\"\n",
    "            out[\"수술위치\"] = out[\"수술위치\"] or normalize_loc(m_diag.group(\"loc\"))\n",
    "\n",
    "    return out"
   ]
  },
  {
   "cell_type": "code",
   "execution_count": 4,
   "id": "8ac2d994",
   "metadata": {},
   "outputs": [
    {
     "name": "stdout",
     "output_type": "stream",
     "text": [
      "{'Site': 'Lung', '수술위치': 'right upper lobe, posterior segment', '수술방법': 'segmentectomy'}\n"
     ]
    }
   ],
   "source": [
    "print(parse_path(dataset.iloc[0]['검사결과']))\n"
   ]
  },
  {
   "cell_type": "code",
   "execution_count": 5,
   "id": "f471dfe6",
   "metadata": {},
   "outputs": [
    {
     "name": "stdout",
     "output_type": "stream",
     "text": [
      "DIAGNOSIS : \n",
      "FA-D) Lung, ( left lower lobe ), lobectomy:\n",
      "           - PLEOMORPHIC CARCINOMA, SINGLE, 7.9 x 5.8 x 5.4 cm, LEFT LOWER LOBE,\n",
      "               with 1) tumor focality: unifocal\n",
      "                        2) confinement to lung\n",
      "                        3) pleural invasion: no\n",
      "                        4) lymphovascular invasion: present\n",
      "                        5) perineural invasion: not identified\n",
      "                        6) bronchial margin: clear\n",
      "                        7) vascular margin: clear\n",
      "                             ( distance of invasive carcinoma from closest margin: 3.7 cm )\n",
      "                        8) metastasis in 6 of 40 lymph nodes ( 6/40 )\n",
      "                             ( peribronchial LN, 0/1; LN #7, 2/7; LN #4L, 0/5; LN #5, 0/5;\n",
      "                               LN #6, 0/5; LN #9, 1/7; LN #10, 3/8; LN #11, 0/2 )\n",
      "                             ( metastatic tumor size: 15 mm, without extranodal extension ).\n",
      "           - Non-neoplastic lung, emphysema.\n",
      "           - Tumor associated atelectasis or obstructive pneumonitis: no.\n",
      " \n",
      " \n",
      " \n",
      "* Pathology tumor staging (AJCC 8th edition): pT4  N2  Mx\n",
      "\n"
     ]
    }
   ],
   "source": [
    "print(dataset.iloc[2]['검사결과'])"
   ]
  },
  {
   "cell_type": "code",
   "execution_count": 6,
   "id": "83e81452",
   "metadata": {},
   "outputs": [
    {
     "name": "stdout",
     "output_type": "stream",
     "text": [
      "{'Site': 'Lung', '수술위치': 'left upper lobe and left lower lobe', '수술방법': None}\n"
     ]
    }
   ],
   "source": [
    "print(parse_path(dataset.iloc[1]['검사결과']))"
   ]
  },
  {
   "cell_type": "code",
   "execution_count": 7,
   "id": "ae736784",
   "metadata": {},
   "outputs": [
    {
     "name": "stdout",
     "output_type": "stream",
     "text": [
      "FA. Lung (Lymph node 4)\n",
      "FB. Lung (upper lobe, bronchial resection margin & vascular margin)\n",
      "C. Lung (upper lobe, bronchial resection margin & vascular margin)\n",
      "D. Lung (upper lobe, superior segment margin)\n",
      "E. Lung (upper lobe, lymph node 6ea)\n",
      "\n",
      "\n",
      "DIAGNOSIS : \n",
      "FA-E) Lung, ( left upper lobe and left lower lobe ) and mediastinal lymph node,\n",
      "           lobectomy ( left upper lobe ), segmentectomy ( left lower lobe ), and mediastinal\n",
      "           lymph node dissection:\n",
      "           - SQUAMOUS CELL CARCINOMA, MODERATELY DIFFERENTIATED,\n",
      "             KERATINIZING, SINGLE, 5.6 x 4.7 x 4.2 cm, LEFT UPPER LOBE,\n",
      "                 with 1) tumor focality: unifocal\n",
      "                          2) extension to perihilar fat tissue\n",
      "                          3) no involvement of left lower lobe\n",
      "                          4) pleural invasion: no\n",
      "                          5) lymphovascular invasion: present\n",
      "                          6) perineural invasion: not identified\n",
      "                          7) bronchial margin: clear\n",
      "                          8) vascular margin: invasive carcinoma\n",
      "                          9) parenchymal margin of left lower lobe: clear\n",
      "                               ( distance of invasive carcinoma from closest margin: < 0.1 cm )\n",
      "                         10) metastasis in 1 of 19 lymph nodes ( 1/19 )\n",
      "                               ( peribronchial LN, 1/1; LN #4L, 0/5; LN #5, 0/2; LN #6, 0/0;\n",
      "                                 LN #7, 0/4; LN #10, 0/6; LN #11, 0/1 )\n",
      "                               ( metastatic tumor size: 14 mm in maximum  dimension\n",
      "                                  without extranodal extension ).\n",
      "           - Non-neoplastic lung, no diagnostic abnormalities.\n",
      "\n"
     ]
    }
   ],
   "source": [
    "print(dataset.iloc[1]['검사결과'])"
   ]
  },
  {
   "cell_type": "code",
   "execution_count": 8,
   "id": "da1d353e",
   "metadata": {},
   "outputs": [
    {
     "name": "stdout",
     "output_type": "stream",
     "text": [
      "{'Site': 'Lung', '수술위치': 'left lower lobe', '수술방법': None}\n"
     ]
    }
   ],
   "source": [
    "print(parse_path(dataset.iloc[2]['검사결과']))"
   ]
  },
  {
   "cell_type": "code",
   "execution_count": 9,
   "id": "94a8e00c",
   "metadata": {},
   "outputs": [
    {
     "name": "stdout",
     "output_type": "stream",
     "text": [
      "DIAGNOSIS : \n",
      "FA-D) Lung, ( left lower lobe ), lobectomy:\n",
      "           - PLEOMORPHIC CARCINOMA, SINGLE, 7.9 x 5.8 x 5.4 cm, LEFT LOWER LOBE,\n",
      "               with 1) tumor focality: unifocal\n",
      "                        2) confinement to lung\n",
      "                        3) pleural invasion: no\n",
      "                        4) lymphovascular invasion: present\n",
      "                        5) perineural invasion: not identified\n",
      "                        6) bronchial margin: clear\n",
      "                        7) vascular margin: clear\n",
      "                             ( distance of invasive carcinoma from closest margin: 3.7 cm )\n",
      "                        8) metastasis in 6 of 40 lymph nodes ( 6/40 )\n",
      "                             ( peribronchial LN, 0/1; LN #7, 2/7; LN #4L, 0/5; LN #5, 0/5;\n",
      "                               LN #6, 0/5; LN #9, 1/7; LN #10, 3/8; LN #11, 0/2 )\n",
      "                             ( metastatic tumor size: 15 mm, without extranodal extension ).\n",
      "           - Non-neoplastic lung, emphysema.\n",
      "           - Tumor associated atelectasis or obstructive pneumonitis: no.\n",
      " \n",
      " \n",
      " \n",
      "* Pathology tumor staging (AJCC 8th edition): pT4  N2  Mx\n",
      "\n"
     ]
    }
   ],
   "source": [
    "print(dataset.iloc[2]['검사결과'])"
   ]
  },
  {
   "cell_type": "code",
   "execution_count": null,
   "id": "f34ed581",
   "metadata": {},
   "outputs": [],
   "source": []
  }
 ],
 "metadata": {
  "kernelspec": {
   "display_name": ".venv",
   "language": "python",
   "name": "python3"
  },
  "language_info": {
   "codemirror_mode": {
    "name": "ipython",
    "version": 3
   },
   "file_extension": ".py",
   "mimetype": "text/x-python",
   "name": "python",
   "nbconvert_exporter": "python",
   "pygments_lexer": "ipython3",
   "version": "3.13.5"
  }
 },
 "nbformat": 4,
 "nbformat_minor": 5
}
