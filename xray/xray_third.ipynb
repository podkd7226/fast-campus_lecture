{
 "cells": [
  {
   "cell_type": "code",
   "execution_count": 1,
   "id": "6641d6ee",
   "metadata": {},
   "outputs": [],
   "source": [
    "import pandas as pd\n",
    "from openai import OpenAI\n"
   ]
  },
  {
   "cell_type": "code",
   "execution_count": null,
   "id": "8e2c0236",
   "metadata": {},
   "outputs": [],
   "source": [
    "api_key = 'your api key'\n",
    "client = OpenAI(\n",
    "                api_key=api_key #개인 api_key\n",
    "                )\n",
    "\n",
    "dataset = pd.read_excel(\"./short_text_mimic.xlsx\")"
   ]
  },
  {
   "cell_type": "code",
   "execution_count": 3,
   "id": "20f0ee52",
   "metadata": {},
   "outputs": [
    {
     "data": {
      "text/html": [
       "<div>\n",
       "<style scoped>\n",
       "    .dataframe tbody tr th:only-of-type {\n",
       "        vertical-align: middle;\n",
       "    }\n",
       "\n",
       "    .dataframe tbody tr th {\n",
       "        vertical-align: top;\n",
       "    }\n",
       "\n",
       "    .dataframe thead th {\n",
       "        text-align: right;\n",
       "    }\n",
       "</style>\n",
       "<table border=\"1\" class=\"dataframe\">\n",
       "  <thead>\n",
       "    <tr style=\"text-align: right;\">\n",
       "      <th></th>\n",
       "      <th>note_id</th>\n",
       "      <th>text</th>\n",
       "    </tr>\n",
       "  </thead>\n",
       "  <tbody>\n",
       "    <tr>\n",
       "      <th>0</th>\n",
       "      <td>10000032-RR-14</td>\n",
       "      <td>EXAMINATION:  CHEST (PA AND LAT)\\n\\nINDICATION...</td>\n",
       "    </tr>\n",
       "    <tr>\n",
       "      <th>1</th>\n",
       "      <td>10000032-RR-23</td>\n",
       "      <td>EXAMINATION:  CHEST (PA AND LAT)\\n\\nINDICATION...</td>\n",
       "    </tr>\n",
       "    <tr>\n",
       "      <th>2</th>\n",
       "      <td>10000084-RR-12</td>\n",
       "      <td>EXAMINATION:  CHEST (PA AND LAT)\\n\\nINDICATION...</td>\n",
       "    </tr>\n",
       "    <tr>\n",
       "      <th>3</th>\n",
       "      <td>10000102-RR-18</td>\n",
       "      <td>CHEST PA AND LATERAL.\\n\\nCOMPARISON:  None.\\n\\...</td>\n",
       "    </tr>\n",
       "    <tr>\n",
       "      <th>4</th>\n",
       "      <td>10000117-RR-13</td>\n",
       "      <td>EXAMINATION:   CHEST (PA AND LAT)\\n\\nINDICATIO...</td>\n",
       "    </tr>\n",
       "    <tr>\n",
       "      <th>...</th>\n",
       "      <td>...</td>\n",
       "      <td>...</td>\n",
       "    </tr>\n",
       "    <tr>\n",
       "      <th>94</th>\n",
       "      <td>10001884-RR-85</td>\n",
       "      <td>INDICATION:  ___ woman with shortness of breat...</td>\n",
       "    </tr>\n",
       "    <tr>\n",
       "      <th>95</th>\n",
       "      <td>10001884-RR-94</td>\n",
       "      <td>HISTORY:  ___ female with chest tightness.\\n\\n...</td>\n",
       "    </tr>\n",
       "    <tr>\n",
       "      <th>96</th>\n",
       "      <td>10001884-RR-97</td>\n",
       "      <td>INDICATION:  Intermittent chest pain, evaluate...</td>\n",
       "    </tr>\n",
       "    <tr>\n",
       "      <th>97</th>\n",
       "      <td>10001919-RR-22</td>\n",
       "      <td>EXAMINATION:  CT CHEST W/CONTRAST\\n\\nINDICATIO...</td>\n",
       "    </tr>\n",
       "    <tr>\n",
       "      <th>98</th>\n",
       "      <td>10001919-RR-23</td>\n",
       "      <td>EXAMINATION:  Right central venous line placem...</td>\n",
       "    </tr>\n",
       "  </tbody>\n",
       "</table>\n",
       "<p>99 rows × 2 columns</p>\n",
       "</div>"
      ],
      "text/plain": [
       "           note_id                                               text\n",
       "0   10000032-RR-14  EXAMINATION:  CHEST (PA AND LAT)\\n\\nINDICATION...\n",
       "1   10000032-RR-23  EXAMINATION:  CHEST (PA AND LAT)\\n\\nINDICATION...\n",
       "2   10000084-RR-12  EXAMINATION:  CHEST (PA AND LAT)\\n\\nINDICATION...\n",
       "3   10000102-RR-18  CHEST PA AND LATERAL.\\n\\nCOMPARISON:  None.\\n\\...\n",
       "4   10000117-RR-13  EXAMINATION:   CHEST (PA AND LAT)\\n\\nINDICATIO...\n",
       "..             ...                                                ...\n",
       "94  10001884-RR-85  INDICATION:  ___ woman with shortness of breat...\n",
       "95  10001884-RR-94  HISTORY:  ___ female with chest tightness.\\n\\n...\n",
       "96  10001884-RR-97  INDICATION:  Intermittent chest pain, evaluate...\n",
       "97  10001919-RR-22  EXAMINATION:  CT CHEST W/CONTRAST\\n\\nINDICATIO...\n",
       "98  10001919-RR-23  EXAMINATION:  Right central venous line placem...\n",
       "\n",
       "[99 rows x 2 columns]"
      ]
     },
     "execution_count": 3,
     "metadata": {},
     "output_type": "execute_result"
    }
   ],
   "source": [
    "dataset"
   ]
  },
  {
   "cell_type": "markdown",
   "id": "5dae1e7e",
   "metadata": {},
   "source": [
    "### 최신 api 방식 따라하기\n",
    "#### 2025.8월 기준 "
   ]
  },
  {
   "cell_type": "code",
   "execution_count": 4,
   "id": "f4dfcd71",
   "metadata": {},
   "outputs": [],
   "source": [
    "radiology_report = dataset['text'][10]"
   ]
  },
  {
   "cell_type": "code",
   "execution_count": 6,
   "id": "4041a2c3",
   "metadata": {},
   "outputs": [
    {
     "name": "stdout",
     "output_type": "stream",
     "text": [
      "EXAMINATION:  CHEST (PA AND LAT)\n",
      "\n",
      "INDICATION:  ___ with hypoxia  // ?pna, aspiration.\n",
      "\n",
      "COMPARISON:  None\n",
      "\n",
      "FINDINGS: \n",
      "\n",
      "PA and lateral views of the chest provided.   The lungs are adequately\n",
      "aerated.\n",
      "\n",
      "There is a focal consolidation at the left lung base adjacent to the lateral\n",
      "hemidiaphragm. There is mild vascular engorgement. There is bilateral apical\n",
      "pleural thickening.\n",
      "\n",
      "The cardiomediastinal silhouette is remarkable for aortic arch calcifications.\n",
      "The heart is top normal in size.\n",
      "\n",
      "IMPRESSION: \n",
      "\n",
      "Focal consolidation at the left lung base, possibly representing aspiration or\n",
      "pneumonia.\n",
      "\n",
      "Central vascular engorgement.\n",
      "\n"
     ]
    }
   ],
   "source": [
    "print(radiology_report)"
   ]
  },
  {
   "cell_type": "code",
   "execution_count": 7,
   "id": "16b06462",
   "metadata": {},
   "outputs": [],
   "source": [
    "from pydantic import BaseModel, Field\n",
    "from typing import Literal\n",
    "from openai import OpenAI\n",
    "\n",
    "client = OpenAI(\n",
    "                api_key=api_key #개인 api_key\n",
    "                )\n",
    "\n",
    "class XrayEvent(BaseModel):\n",
    "    pneumonia: Literal[\"yes\",\"no\"] = Field(description=\"Patient has pneumonia ['yes'/'no'] (strict).\")\n",
    "    tuberculosis: Literal[\"yes\",\"no\"] = Field(description=\"Patient has tuberculosis ['yes'/'no'] (strict).\")\n",
    "    interstitial_lung_disease: Literal[\"yes\",\"no\"] = Field(description=\"Patient has interstitial lung disease ['yes'/'no'] (strict).\")\n",
    "\n",
    "response = client.responses.parse(\n",
    "    model=\"gpt-4o-2024-08-06\",\n",
    "    input=[\n",
    "        {\"role\": \"system\", \n",
    "        \"content\": \"다음 방사선 판독에서 폐렴, 결핵, ILD의 존재 여부만 판단해라. 각 항목은 반드시 'yes' 또는 'no'로만 출력하라. 불명확하거나 언급이 없으면 'no'로 하라.\"},\n",
    "        {\n",
    "            \"role\": \"user\",\n",
    "            \"content\": radiology_report,\n",
    "        },\n",
    "    ],\n",
    "    text_format=XrayEvent,\n",
    ")\n",
    "\n",
    "structured_new = response.output_parsed"
   ]
  },
  {
   "cell_type": "code",
   "execution_count": 8,
   "id": "1f9a2de7",
   "metadata": {},
   "outputs": [
    {
     "data": {
      "text/plain": [
       "XrayEvent(pneumonia='yes', tuberculosis='no', interstitial_lung_disease='no')"
      ]
     },
     "execution_count": 8,
     "metadata": {},
     "output_type": "execute_result"
    }
   ],
   "source": [
    "structured_new"
   ]
  },
  {
   "cell_type": "code",
   "execution_count": 11,
   "id": "bb9f384a",
   "metadata": {},
   "outputs": [
    {
     "data": {
      "text/plain": [
       "'yes'"
      ]
     },
     "execution_count": 11,
     "metadata": {},
     "output_type": "execute_result"
    }
   ],
   "source": [
    "structured_new.pneumonia"
   ]
  },
  {
   "cell_type": "code",
   "execution_count": 21,
   "id": "b0dd3762",
   "metadata": {},
   "outputs": [
    {
     "data": {
      "text/plain": [
       "str"
      ]
     },
     "execution_count": 21,
     "metadata": {},
     "output_type": "execute_result"
    }
   ],
   "source": [
    "type(structured_new.pneumonia)"
   ]
  },
  {
   "cell_type": "code",
   "execution_count": 12,
   "id": "8bb3df6d",
   "metadata": {},
   "outputs": [
    {
     "data": {
      "text/plain": [
       "'no'"
      ]
     },
     "execution_count": 12,
     "metadata": {},
     "output_type": "execute_result"
    }
   ],
   "source": [
    "structured_new.interstitial_lung_disease"
   ]
  },
  {
   "cell_type": "code",
   "execution_count": 13,
   "id": "c5bd722e",
   "metadata": {},
   "outputs": [
    {
     "data": {
      "text/plain": [
       "'no'"
      ]
     },
     "execution_count": 13,
     "metadata": {},
     "output_type": "execute_result"
    }
   ],
   "source": [
    "structured_new.tuberculosis"
   ]
  },
  {
   "cell_type": "markdown",
   "id": "6c70ed72",
   "metadata": {},
   "source": [
    "### Pydantic class란? \n",
    "- python의 타입힌트를 이용해서 입력데이터를 검증해주는 라이브러리\n",
    "- 스키마 정의\n",
    "    - 타입 제약 \n",
    "    - 메타데이터 확인 가능 \n",
    "    - model_json_chema, model_fields\n",
    "\n",
    "- 장점: 좀 더 코드적으로는 간결함\n",
    "- 단점: 코드가 어려운 분들에게는 어려울 수 있음\n"
   ]
  },
  {
   "cell_type": "code",
   "execution_count": 14,
   "id": "9c16935a",
   "metadata": {},
   "outputs": [],
   "source": [
    "xray_class = XrayEvent"
   ]
  },
  {
   "cell_type": "code",
   "execution_count": 15,
   "id": "7e7839d6",
   "metadata": {},
   "outputs": [
    {
     "data": {
      "text/plain": [
       "{'properties': {'pneumonia': {'description': \"Patient has pneumonia ['yes'/'no'] (strict).\",\n",
       "   'enum': ['yes', 'no'],\n",
       "   'title': 'Pneumonia',\n",
       "   'type': 'string'},\n",
       "  'tuberculosis': {'description': \"Patient has tuberculosis ['yes'/'no'] (strict).\",\n",
       "   'enum': ['yes', 'no'],\n",
       "   'title': 'Tuberculosis',\n",
       "   'type': 'string'},\n",
       "  'interstitial_lung_disease': {'description': \"Patient has interstitial lung disease ['yes'/'no'] (strict).\",\n",
       "   'enum': ['yes', 'no'],\n",
       "   'title': 'Interstitial Lung Disease',\n",
       "   'type': 'string'}},\n",
       " 'required': ['pneumonia', 'tuberculosis', 'interstitial_lung_disease'],\n",
       " 'title': 'XrayEvent',\n",
       " 'type': 'object'}"
      ]
     },
     "execution_count": 15,
     "metadata": {},
     "output_type": "execute_result"
    }
   ],
   "source": [
    "xray_class.model_json_schema()"
   ]
  },
  {
   "cell_type": "code",
   "execution_count": 16,
   "id": "fadae37f",
   "metadata": {},
   "outputs": [
    {
     "data": {
      "text/plain": [
       "{'pneumonia': FieldInfo(annotation=Literal['yes', 'no'], required=True, description=\"Patient has pneumonia ['yes'/'no'] (strict).\"),\n",
       " 'tuberculosis': FieldInfo(annotation=Literal['yes', 'no'], required=True, description=\"Patient has tuberculosis ['yes'/'no'] (strict).\"),\n",
       " 'interstitial_lung_disease': FieldInfo(annotation=Literal['yes', 'no'], required=True, description=\"Patient has interstitial lung disease ['yes'/'no'] (strict).\")}"
      ]
     },
     "execution_count": 16,
     "metadata": {},
     "output_type": "execute_result"
    }
   ],
   "source": [
    "xray_class.model_fields"
   ]
  },
  {
   "cell_type": "code",
   "execution_count": 17,
   "id": "3c49bd75",
   "metadata": {},
   "outputs": [],
   "source": [
    "class XrayEventBool(BaseModel):\n",
    "    pneumonia: bool = Field(description=\"Pneumonia present (True/False)\")\n",
    "    tuberculosis: bool = Field(description=\"Tuberculosis present (True/False)\")\n",
    "    interstitial_lung_disease: bool = Field(description=\"ILD present (True/False)\")\n",
    "\n",
    "response_bool = client.responses.parse(\n",
    "    model=\"gpt-4o-2024-08-06\",\n",
    "    input=[\n",
    "        {\"role\": \"system\", \"content\": \"다음 방사선 판독에서 폐렴, 결핵, ILD의 존재 여부만 판단해라. 각 항목은 반드시 'yes' 또는 'no'로만 출력하라. 불명확하거나 언급이 없으면 'no'로 하라.\"},\n",
    "        {\n",
    "            \"role\": \"user\",\n",
    "            \"content\": radiology_report,\n",
    "        },\n",
    "    ],\n",
    "    text_format=XrayEventBool,\n",
    ")\n",
    "\n",
    "structured_new11 = response_bool.output_parsed"
   ]
  },
  {
   "cell_type": "code",
   "execution_count": 19,
   "id": "64041be3",
   "metadata": {},
   "outputs": [
    {
     "data": {
      "text/plain": [
       "XrayEventBool(pneumonia=True, tuberculosis=False, interstitial_lung_disease=False)"
      ]
     },
     "execution_count": 19,
     "metadata": {},
     "output_type": "execute_result"
    }
   ],
   "source": [
    "structured_new11"
   ]
  },
  {
   "cell_type": "code",
   "execution_count": 18,
   "id": "0e5d6d82",
   "metadata": {},
   "outputs": [
    {
     "data": {
      "text/plain": [
       "True"
      ]
     },
     "execution_count": 18,
     "metadata": {},
     "output_type": "execute_result"
    }
   ],
   "source": [
    "structured_new11.pneumonia"
   ]
  },
  {
   "cell_type": "code",
   "execution_count": 20,
   "id": "5b1cadcf",
   "metadata": {},
   "outputs": [
    {
     "data": {
      "text/plain": [
       "bool"
      ]
     },
     "execution_count": 20,
     "metadata": {},
     "output_type": "execute_result"
    }
   ],
   "source": [
    "type(structured_new11.pneumonia)"
   ]
  },
  {
   "cell_type": "markdown",
   "id": "3f051c18",
   "metadata": {},
   "source": [
    "#### 결과를 테이블에 넣어보기"
   ]
  },
  {
   "cell_type": "code",
   "execution_count": 22,
   "id": "579c15c2",
   "metadata": {},
   "outputs": [
    {
     "data": {
      "text/plain": [
       "'EXAMINATION:  CHEST (PA AND LAT)\\n\\nINDICATION:  ___ with hypoxia  // ?pna, aspiration.\\n\\nCOMPARISON:  None\\n\\nFINDINGS: \\n\\nPA and lateral views of the chest provided.   The lungs are adequately\\naerated.\\n\\nThere is a focal consolidation at the left lung base adjacent to the lateral\\nhemidiaphragm. There is mild vascular engorgement. There is bilateral apical\\npleural thickening.\\n\\nThe cardiomediastinal silhouette is remarkable for aortic arch calcifications.\\nThe heart is top normal in size.\\n\\nIMPRESSION: \\n\\nFocal consolidation at the left lung base, possibly representing aspiration or\\npneumonia.\\n\\nCentral vascular engorgement.\\n'"
      ]
     },
     "execution_count": 22,
     "metadata": {},
     "output_type": "execute_result"
    }
   ],
   "source": [
    "dataset['text'][10]"
   ]
  },
  {
   "cell_type": "code",
   "execution_count": 23,
   "id": "a64ead3c",
   "metadata": {},
   "outputs": [
    {
     "data": {
      "text/html": [
       "<div>\n",
       "<style scoped>\n",
       "    .dataframe tbody tr th:only-of-type {\n",
       "        vertical-align: middle;\n",
       "    }\n",
       "\n",
       "    .dataframe tbody tr th {\n",
       "        vertical-align: top;\n",
       "    }\n",
       "\n",
       "    .dataframe thead th {\n",
       "        text-align: right;\n",
       "    }\n",
       "</style>\n",
       "<table border=\"1\" class=\"dataframe\">\n",
       "  <thead>\n",
       "    <tr style=\"text-align: right;\">\n",
       "      <th></th>\n",
       "      <th>note_id</th>\n",
       "      <th>text</th>\n",
       "    </tr>\n",
       "  </thead>\n",
       "  <tbody>\n",
       "    <tr>\n",
       "      <th>0</th>\n",
       "      <td>10000032-RR-14</td>\n",
       "      <td>EXAMINATION:  CHEST (PA AND LAT)\\n\\nINDICATION...</td>\n",
       "    </tr>\n",
       "    <tr>\n",
       "      <th>1</th>\n",
       "      <td>10000032-RR-23</td>\n",
       "      <td>EXAMINATION:  CHEST (PA AND LAT)\\n\\nINDICATION...</td>\n",
       "    </tr>\n",
       "    <tr>\n",
       "      <th>2</th>\n",
       "      <td>10000084-RR-12</td>\n",
       "      <td>EXAMINATION:  CHEST (PA AND LAT)\\n\\nINDICATION...</td>\n",
       "    </tr>\n",
       "    <tr>\n",
       "      <th>3</th>\n",
       "      <td>10000102-RR-18</td>\n",
       "      <td>CHEST PA AND LATERAL.\\n\\nCOMPARISON:  None.\\n\\...</td>\n",
       "    </tr>\n",
       "    <tr>\n",
       "      <th>4</th>\n",
       "      <td>10000117-RR-13</td>\n",
       "      <td>EXAMINATION:   CHEST (PA AND LAT)\\n\\nINDICATIO...</td>\n",
       "    </tr>\n",
       "    <tr>\n",
       "      <th>...</th>\n",
       "      <td>...</td>\n",
       "      <td>...</td>\n",
       "    </tr>\n",
       "    <tr>\n",
       "      <th>94</th>\n",
       "      <td>10001884-RR-85</td>\n",
       "      <td>INDICATION:  ___ woman with shortness of breat...</td>\n",
       "    </tr>\n",
       "    <tr>\n",
       "      <th>95</th>\n",
       "      <td>10001884-RR-94</td>\n",
       "      <td>HISTORY:  ___ female with chest tightness.\\n\\n...</td>\n",
       "    </tr>\n",
       "    <tr>\n",
       "      <th>96</th>\n",
       "      <td>10001884-RR-97</td>\n",
       "      <td>INDICATION:  Intermittent chest pain, evaluate...</td>\n",
       "    </tr>\n",
       "    <tr>\n",
       "      <th>97</th>\n",
       "      <td>10001919-RR-22</td>\n",
       "      <td>EXAMINATION:  CT CHEST W/CONTRAST\\n\\nINDICATIO...</td>\n",
       "    </tr>\n",
       "    <tr>\n",
       "      <th>98</th>\n",
       "      <td>10001919-RR-23</td>\n",
       "      <td>EXAMINATION:  Right central venous line placem...</td>\n",
       "    </tr>\n",
       "  </tbody>\n",
       "</table>\n",
       "<p>99 rows × 2 columns</p>\n",
       "</div>"
      ],
      "text/plain": [
       "           note_id                                               text\n",
       "0   10000032-RR-14  EXAMINATION:  CHEST (PA AND LAT)\\n\\nINDICATION...\n",
       "1   10000032-RR-23  EXAMINATION:  CHEST (PA AND LAT)\\n\\nINDICATION...\n",
       "2   10000084-RR-12  EXAMINATION:  CHEST (PA AND LAT)\\n\\nINDICATION...\n",
       "3   10000102-RR-18  CHEST PA AND LATERAL.\\n\\nCOMPARISON:  None.\\n\\...\n",
       "4   10000117-RR-13  EXAMINATION:   CHEST (PA AND LAT)\\n\\nINDICATIO...\n",
       "..             ...                                                ...\n",
       "94  10001884-RR-85  INDICATION:  ___ woman with shortness of breat...\n",
       "95  10001884-RR-94  HISTORY:  ___ female with chest tightness.\\n\\n...\n",
       "96  10001884-RR-97  INDICATION:  Intermittent chest pain, evaluate...\n",
       "97  10001919-RR-22  EXAMINATION:  CT CHEST W/CONTRAST\\n\\nINDICATIO...\n",
       "98  10001919-RR-23  EXAMINATION:  Right central venous line placem...\n",
       "\n",
       "[99 rows x 2 columns]"
      ]
     },
     "execution_count": 23,
     "metadata": {},
     "output_type": "execute_result"
    }
   ],
   "source": [
    "dataset"
   ]
  },
  {
   "cell_type": "code",
   "execution_count": 24,
   "id": "a6c06b0b",
   "metadata": {},
   "outputs": [],
   "source": [
    "dataset.loc[10, 'pneumonia'] = structured_new.pneumonia\n",
    "dataset.loc[10, 'tuberculosis'] = structured_new.tuberculosis\n",
    "dataset.loc[10, 'interstitial_lung_disease'] = structured_new.interstitial_lung_disease"
   ]
  },
  {
   "cell_type": "code",
   "execution_count": 25,
   "id": "e8f3ac84",
   "metadata": {},
   "outputs": [
    {
     "data": {
      "text/html": [
       "<div>\n",
       "<style scoped>\n",
       "    .dataframe tbody tr th:only-of-type {\n",
       "        vertical-align: middle;\n",
       "    }\n",
       "\n",
       "    .dataframe tbody tr th {\n",
       "        vertical-align: top;\n",
       "    }\n",
       "\n",
       "    .dataframe thead th {\n",
       "        text-align: right;\n",
       "    }\n",
       "</style>\n",
       "<table border=\"1\" class=\"dataframe\">\n",
       "  <thead>\n",
       "    <tr style=\"text-align: right;\">\n",
       "      <th></th>\n",
       "      <th>note_id</th>\n",
       "      <th>text</th>\n",
       "      <th>pneumonia</th>\n",
       "      <th>tuberculosis</th>\n",
       "      <th>interstitial_lung_disease</th>\n",
       "    </tr>\n",
       "  </thead>\n",
       "  <tbody>\n",
       "    <tr>\n",
       "      <th>0</th>\n",
       "      <td>10000032-RR-14</td>\n",
       "      <td>EXAMINATION:  CHEST (PA AND LAT)\\n\\nINDICATION...</td>\n",
       "      <td>NaN</td>\n",
       "      <td>NaN</td>\n",
       "      <td>NaN</td>\n",
       "    </tr>\n",
       "    <tr>\n",
       "      <th>1</th>\n",
       "      <td>10000032-RR-23</td>\n",
       "      <td>EXAMINATION:  CHEST (PA AND LAT)\\n\\nINDICATION...</td>\n",
       "      <td>NaN</td>\n",
       "      <td>NaN</td>\n",
       "      <td>NaN</td>\n",
       "    </tr>\n",
       "    <tr>\n",
       "      <th>2</th>\n",
       "      <td>10000084-RR-12</td>\n",
       "      <td>EXAMINATION:  CHEST (PA AND LAT)\\n\\nINDICATION...</td>\n",
       "      <td>NaN</td>\n",
       "      <td>NaN</td>\n",
       "      <td>NaN</td>\n",
       "    </tr>\n",
       "    <tr>\n",
       "      <th>3</th>\n",
       "      <td>10000102-RR-18</td>\n",
       "      <td>CHEST PA AND LATERAL.\\n\\nCOMPARISON:  None.\\n\\...</td>\n",
       "      <td>NaN</td>\n",
       "      <td>NaN</td>\n",
       "      <td>NaN</td>\n",
       "    </tr>\n",
       "    <tr>\n",
       "      <th>4</th>\n",
       "      <td>10000117-RR-13</td>\n",
       "      <td>EXAMINATION:   CHEST (PA AND LAT)\\n\\nINDICATIO...</td>\n",
       "      <td>NaN</td>\n",
       "      <td>NaN</td>\n",
       "      <td>NaN</td>\n",
       "    </tr>\n",
       "    <tr>\n",
       "      <th>5</th>\n",
       "      <td>10000117-RR-21</td>\n",
       "      <td>EXAMINATION:  Chest radiographs, PA and latera...</td>\n",
       "      <td>NaN</td>\n",
       "      <td>NaN</td>\n",
       "      <td>NaN</td>\n",
       "    </tr>\n",
       "    <tr>\n",
       "      <th>6</th>\n",
       "      <td>10000117-RR-8</td>\n",
       "      <td>CHEST RADIOGRAPH PERFORMED.\\n\\nCOMPARISON:  No...</td>\n",
       "      <td>NaN</td>\n",
       "      <td>NaN</td>\n",
       "      <td>NaN</td>\n",
       "    </tr>\n",
       "    <tr>\n",
       "      <th>7</th>\n",
       "      <td>10000473-RR-7</td>\n",
       "      <td>EXAMINATION:\\nChest:  Frontal and lateral view...</td>\n",
       "      <td>NaN</td>\n",
       "      <td>NaN</td>\n",
       "      <td>NaN</td>\n",
       "    </tr>\n",
       "    <tr>\n",
       "      <th>8</th>\n",
       "      <td>10000560-RR-28</td>\n",
       "      <td>TWO-VIEW CHEST, ___.\\n\\nINDICATION:  Renal cel...</td>\n",
       "      <td>NaN</td>\n",
       "      <td>NaN</td>\n",
       "      <td>NaN</td>\n",
       "    </tr>\n",
       "    <tr>\n",
       "      <th>9</th>\n",
       "      <td>10000650-RR-16</td>\n",
       "      <td>INDICATION:  ___ man with fever and cough.\\n\\n...</td>\n",
       "      <td>NaN</td>\n",
       "      <td>NaN</td>\n",
       "      <td>NaN</td>\n",
       "    </tr>\n",
       "    <tr>\n",
       "      <th>10</th>\n",
       "      <td>10000764-RR-15</td>\n",
       "      <td>EXAMINATION:  CHEST (PA AND LAT)\\n\\nINDICATION...</td>\n",
       "      <td>yes</td>\n",
       "      <td>no</td>\n",
       "      <td>no</td>\n",
       "    </tr>\n",
       "  </tbody>\n",
       "</table>\n",
       "</div>"
      ],
      "text/plain": [
       "           note_id                                               text  \\\n",
       "0   10000032-RR-14  EXAMINATION:  CHEST (PA AND LAT)\\n\\nINDICATION...   \n",
       "1   10000032-RR-23  EXAMINATION:  CHEST (PA AND LAT)\\n\\nINDICATION...   \n",
       "2   10000084-RR-12  EXAMINATION:  CHEST (PA AND LAT)\\n\\nINDICATION...   \n",
       "3   10000102-RR-18  CHEST PA AND LATERAL.\\n\\nCOMPARISON:  None.\\n\\...   \n",
       "4   10000117-RR-13  EXAMINATION:   CHEST (PA AND LAT)\\n\\nINDICATIO...   \n",
       "5   10000117-RR-21  EXAMINATION:  Chest radiographs, PA and latera...   \n",
       "6    10000117-RR-8  CHEST RADIOGRAPH PERFORMED.\\n\\nCOMPARISON:  No...   \n",
       "7    10000473-RR-7  EXAMINATION:\\nChest:  Frontal and lateral view...   \n",
       "8   10000560-RR-28  TWO-VIEW CHEST, ___.\\n\\nINDICATION:  Renal cel...   \n",
       "9   10000650-RR-16  INDICATION:  ___ man with fever and cough.\\n\\n...   \n",
       "10  10000764-RR-15  EXAMINATION:  CHEST (PA AND LAT)\\n\\nINDICATION...   \n",
       "\n",
       "   pneumonia tuberculosis interstitial_lung_disease  \n",
       "0        NaN          NaN                       NaN  \n",
       "1        NaN          NaN                       NaN  \n",
       "2        NaN          NaN                       NaN  \n",
       "3        NaN          NaN                       NaN  \n",
       "4        NaN          NaN                       NaN  \n",
       "5        NaN          NaN                       NaN  \n",
       "6        NaN          NaN                       NaN  \n",
       "7        NaN          NaN                       NaN  \n",
       "8        NaN          NaN                       NaN  \n",
       "9        NaN          NaN                       NaN  \n",
       "10       yes           no                        no  "
      ]
     },
     "execution_count": 25,
     "metadata": {},
     "output_type": "execute_result"
    }
   ],
   "source": [
    "dataset[:11]"
   ]
  },
  {
   "cell_type": "code",
   "execution_count": 26,
   "id": "efddd2a5",
   "metadata": {},
   "outputs": [
    {
     "name": "stdout",
     "output_type": "stream",
     "text": [
      "0 번째: {'pneumonia': 'no', 'tuberculosis': 'no', 'interstitial_lung_disease': 'no'}\n",
      "1 번째: {'pneumonia': 'no', 'tuberculosis': 'no', 'interstitial_lung_disease': 'no'}\n",
      "2 번째: {'pneumonia': 'no', 'tuberculosis': 'no', 'interstitial_lung_disease': 'no'}\n"
     ]
    }
   ],
   "source": [
    "for i in range(3):\n",
    "  report_ = dataset.loc[i, 'text']\n",
    "  resp = client.responses.parse(\n",
    "    model=\"gpt-4o-2024-08-06\",\n",
    "    input=[\n",
    "      {\"role\": \"system\", \"content\": \"다음 방사선 판독에서 폐렴, 결핵, ILD가 있으면 추출하라. \"},\n",
    "      {\"role\": \"user\", \"content\": report_},\n",
    "    ],\n",
    "    text_format=XrayEvent,\n",
    "    temperature=0,\n",
    "  )\n",
    "  event = resp.output_parsed\n",
    "  dataset.loc[i, 'pneumonia'] = event.pneumonia\n",
    "  dataset.loc[i, 'tuberculosis'] = event.tuberculosis\n",
    "  dataset.loc[i, 'interstitial_lung_disease'] = event.interstitial_lung_disease\n",
    "  print(i, \"번째:\", event.model_dump())"
   ]
  },
  {
   "cell_type": "code",
   "execution_count": 27,
   "id": "4fbe60b6",
   "metadata": {},
   "outputs": [
    {
     "data": {
      "text/html": [
       "<div>\n",
       "<style scoped>\n",
       "    .dataframe tbody tr th:only-of-type {\n",
       "        vertical-align: middle;\n",
       "    }\n",
       "\n",
       "    .dataframe tbody tr th {\n",
       "        vertical-align: top;\n",
       "    }\n",
       "\n",
       "    .dataframe thead th {\n",
       "        text-align: right;\n",
       "    }\n",
       "</style>\n",
       "<table border=\"1\" class=\"dataframe\">\n",
       "  <thead>\n",
       "    <tr style=\"text-align: right;\">\n",
       "      <th></th>\n",
       "      <th>note_id</th>\n",
       "      <th>text</th>\n",
       "      <th>pneumonia</th>\n",
       "      <th>tuberculosis</th>\n",
       "      <th>interstitial_lung_disease</th>\n",
       "    </tr>\n",
       "  </thead>\n",
       "  <tbody>\n",
       "    <tr>\n",
       "      <th>0</th>\n",
       "      <td>10000032-RR-14</td>\n",
       "      <td>EXAMINATION:  CHEST (PA AND LAT)\\n\\nINDICATION...</td>\n",
       "      <td>no</td>\n",
       "      <td>no</td>\n",
       "      <td>no</td>\n",
       "    </tr>\n",
       "    <tr>\n",
       "      <th>1</th>\n",
       "      <td>10000032-RR-23</td>\n",
       "      <td>EXAMINATION:  CHEST (PA AND LAT)\\n\\nINDICATION...</td>\n",
       "      <td>no</td>\n",
       "      <td>no</td>\n",
       "      <td>no</td>\n",
       "    </tr>\n",
       "    <tr>\n",
       "      <th>2</th>\n",
       "      <td>10000084-RR-12</td>\n",
       "      <td>EXAMINATION:  CHEST (PA AND LAT)\\n\\nINDICATION...</td>\n",
       "      <td>no</td>\n",
       "      <td>no</td>\n",
       "      <td>no</td>\n",
       "    </tr>\n",
       "    <tr>\n",
       "      <th>3</th>\n",
       "      <td>10000102-RR-18</td>\n",
       "      <td>CHEST PA AND LATERAL.\\n\\nCOMPARISON:  None.\\n\\...</td>\n",
       "      <td>NaN</td>\n",
       "      <td>NaN</td>\n",
       "      <td>NaN</td>\n",
       "    </tr>\n",
       "    <tr>\n",
       "      <th>4</th>\n",
       "      <td>10000117-RR-13</td>\n",
       "      <td>EXAMINATION:   CHEST (PA AND LAT)\\n\\nINDICATIO...</td>\n",
       "      <td>NaN</td>\n",
       "      <td>NaN</td>\n",
       "      <td>NaN</td>\n",
       "    </tr>\n",
       "    <tr>\n",
       "      <th>5</th>\n",
       "      <td>10000117-RR-21</td>\n",
       "      <td>EXAMINATION:  Chest radiographs, PA and latera...</td>\n",
       "      <td>NaN</td>\n",
       "      <td>NaN</td>\n",
       "      <td>NaN</td>\n",
       "    </tr>\n",
       "    <tr>\n",
       "      <th>6</th>\n",
       "      <td>10000117-RR-8</td>\n",
       "      <td>CHEST RADIOGRAPH PERFORMED.\\n\\nCOMPARISON:  No...</td>\n",
       "      <td>NaN</td>\n",
       "      <td>NaN</td>\n",
       "      <td>NaN</td>\n",
       "    </tr>\n",
       "    <tr>\n",
       "      <th>7</th>\n",
       "      <td>10000473-RR-7</td>\n",
       "      <td>EXAMINATION:\\nChest:  Frontal and lateral view...</td>\n",
       "      <td>NaN</td>\n",
       "      <td>NaN</td>\n",
       "      <td>NaN</td>\n",
       "    </tr>\n",
       "    <tr>\n",
       "      <th>8</th>\n",
       "      <td>10000560-RR-28</td>\n",
       "      <td>TWO-VIEW CHEST, ___.\\n\\nINDICATION:  Renal cel...</td>\n",
       "      <td>NaN</td>\n",
       "      <td>NaN</td>\n",
       "      <td>NaN</td>\n",
       "    </tr>\n",
       "    <tr>\n",
       "      <th>9</th>\n",
       "      <td>10000650-RR-16</td>\n",
       "      <td>INDICATION:  ___ man with fever and cough.\\n\\n...</td>\n",
       "      <td>NaN</td>\n",
       "      <td>NaN</td>\n",
       "      <td>NaN</td>\n",
       "    </tr>\n",
       "  </tbody>\n",
       "</table>\n",
       "</div>"
      ],
      "text/plain": [
       "          note_id                                               text  \\\n",
       "0  10000032-RR-14  EXAMINATION:  CHEST (PA AND LAT)\\n\\nINDICATION...   \n",
       "1  10000032-RR-23  EXAMINATION:  CHEST (PA AND LAT)\\n\\nINDICATION...   \n",
       "2  10000084-RR-12  EXAMINATION:  CHEST (PA AND LAT)\\n\\nINDICATION...   \n",
       "3  10000102-RR-18  CHEST PA AND LATERAL.\\n\\nCOMPARISON:  None.\\n\\...   \n",
       "4  10000117-RR-13  EXAMINATION:   CHEST (PA AND LAT)\\n\\nINDICATIO...   \n",
       "5  10000117-RR-21  EXAMINATION:  Chest radiographs, PA and latera...   \n",
       "6   10000117-RR-8  CHEST RADIOGRAPH PERFORMED.\\n\\nCOMPARISON:  No...   \n",
       "7   10000473-RR-7  EXAMINATION:\\nChest:  Frontal and lateral view...   \n",
       "8  10000560-RR-28  TWO-VIEW CHEST, ___.\\n\\nINDICATION:  Renal cel...   \n",
       "9  10000650-RR-16  INDICATION:  ___ man with fever and cough.\\n\\n...   \n",
       "\n",
       "  pneumonia tuberculosis interstitial_lung_disease  \n",
       "0        no           no                        no  \n",
       "1        no           no                        no  \n",
       "2        no           no                        no  \n",
       "3       NaN          NaN                       NaN  \n",
       "4       NaN          NaN                       NaN  \n",
       "5       NaN          NaN                       NaN  \n",
       "6       NaN          NaN                       NaN  \n",
       "7       NaN          NaN                       NaN  \n",
       "8       NaN          NaN                       NaN  \n",
       "9       NaN          NaN                       NaN  "
      ]
     },
     "execution_count": 27,
     "metadata": {},
     "output_type": "execute_result"
    }
   ],
   "source": [
    "dataset[:10]"
   ]
  },
  {
   "cell_type": "markdown",
   "id": "0d37494f",
   "metadata": {},
   "source": [
    "### Boolean type "
   ]
  },
  {
   "cell_type": "code",
   "execution_count": 28,
   "id": "f96324cb",
   "metadata": {},
   "outputs": [
    {
     "name": "stdout",
     "output_type": "stream",
     "text": [
      "0 번째: {'pneumonia': False, 'tuberculosis': False, 'interstitial_lung_disease': False}\n",
      "1 번째: {'pneumonia': False, 'tuberculosis': False, 'interstitial_lung_disease': False}\n",
      "2 번째: {'pneumonia': False, 'tuberculosis': False, 'interstitial_lung_disease': False}\n"
     ]
    }
   ],
   "source": [
    "class XrayEventBool(BaseModel):\n",
    "    pneumonia: bool = Field(description=\"Pneumonia present (True/False)\")\n",
    "    tuberculosis: bool = Field(description=\"Tuberculosis present (True/False)\")\n",
    "    interstitial_lung_disease: bool = Field(description=\"ILD present (True/False)\")\n",
    "\n",
    "for i in range(3):\n",
    "  report_ = dataset.loc[i, 'text']\n",
    "  resp = client.responses.parse(\n",
    "    model=\"gpt-4o-2024-08-06\",\n",
    "    input=[\n",
    "      {\"role\": \"system\", \"content\": \"다음 방사선 판독에서 폐렴, 결핵, ILD가 있으면 추출하라. \"},\n",
    "      {\"role\": \"user\", \"content\": report_},\n",
    "    ],\n",
    "    text_format=XrayEventBool,\n",
    "    temperature=0,\n",
    "  )\n",
    "  event = resp.output_parsed\n",
    "  dataset.loc[i, 'pneumonia'] = event.pneumonia\n",
    "  dataset.loc[i, 'tuberculosis'] = event.tuberculosis\n",
    "  dataset.loc[i, 'interstitial_lung_disease'] = event.interstitial_lung_disease\n",
    "  print(i, \"번째:\", event.model_dump())"
   ]
  },
  {
   "cell_type": "code",
   "execution_count": 29,
   "id": "5d7ee5f0",
   "metadata": {},
   "outputs": [
    {
     "data": {
      "text/html": [
       "<div>\n",
       "<style scoped>\n",
       "    .dataframe tbody tr th:only-of-type {\n",
       "        vertical-align: middle;\n",
       "    }\n",
       "\n",
       "    .dataframe tbody tr th {\n",
       "        vertical-align: top;\n",
       "    }\n",
       "\n",
       "    .dataframe thead th {\n",
       "        text-align: right;\n",
       "    }\n",
       "</style>\n",
       "<table border=\"1\" class=\"dataframe\">\n",
       "  <thead>\n",
       "    <tr style=\"text-align: right;\">\n",
       "      <th></th>\n",
       "      <th>note_id</th>\n",
       "      <th>text</th>\n",
       "      <th>pneumonia</th>\n",
       "      <th>tuberculosis</th>\n",
       "      <th>interstitial_lung_disease</th>\n",
       "    </tr>\n",
       "  </thead>\n",
       "  <tbody>\n",
       "    <tr>\n",
       "      <th>0</th>\n",
       "      <td>10000032-RR-14</td>\n",
       "      <td>EXAMINATION:  CHEST (PA AND LAT)\\n\\nINDICATION...</td>\n",
       "      <td>False</td>\n",
       "      <td>False</td>\n",
       "      <td>False</td>\n",
       "    </tr>\n",
       "    <tr>\n",
       "      <th>1</th>\n",
       "      <td>10000032-RR-23</td>\n",
       "      <td>EXAMINATION:  CHEST (PA AND LAT)\\n\\nINDICATION...</td>\n",
       "      <td>False</td>\n",
       "      <td>False</td>\n",
       "      <td>False</td>\n",
       "    </tr>\n",
       "    <tr>\n",
       "      <th>2</th>\n",
       "      <td>10000084-RR-12</td>\n",
       "      <td>EXAMINATION:  CHEST (PA AND LAT)\\n\\nINDICATION...</td>\n",
       "      <td>False</td>\n",
       "      <td>False</td>\n",
       "      <td>False</td>\n",
       "    </tr>\n",
       "    <tr>\n",
       "      <th>3</th>\n",
       "      <td>10000102-RR-18</td>\n",
       "      <td>CHEST PA AND LATERAL.\\n\\nCOMPARISON:  None.\\n\\...</td>\n",
       "      <td>NaN</td>\n",
       "      <td>NaN</td>\n",
       "      <td>NaN</td>\n",
       "    </tr>\n",
       "    <tr>\n",
       "      <th>4</th>\n",
       "      <td>10000117-RR-13</td>\n",
       "      <td>EXAMINATION:   CHEST (PA AND LAT)\\n\\nINDICATIO...</td>\n",
       "      <td>NaN</td>\n",
       "      <td>NaN</td>\n",
       "      <td>NaN</td>\n",
       "    </tr>\n",
       "    <tr>\n",
       "      <th>5</th>\n",
       "      <td>10000117-RR-21</td>\n",
       "      <td>EXAMINATION:  Chest radiographs, PA and latera...</td>\n",
       "      <td>NaN</td>\n",
       "      <td>NaN</td>\n",
       "      <td>NaN</td>\n",
       "    </tr>\n",
       "    <tr>\n",
       "      <th>6</th>\n",
       "      <td>10000117-RR-8</td>\n",
       "      <td>CHEST RADIOGRAPH PERFORMED.\\n\\nCOMPARISON:  No...</td>\n",
       "      <td>NaN</td>\n",
       "      <td>NaN</td>\n",
       "      <td>NaN</td>\n",
       "    </tr>\n",
       "    <tr>\n",
       "      <th>7</th>\n",
       "      <td>10000473-RR-7</td>\n",
       "      <td>EXAMINATION:\\nChest:  Frontal and lateral view...</td>\n",
       "      <td>NaN</td>\n",
       "      <td>NaN</td>\n",
       "      <td>NaN</td>\n",
       "    </tr>\n",
       "    <tr>\n",
       "      <th>8</th>\n",
       "      <td>10000560-RR-28</td>\n",
       "      <td>TWO-VIEW CHEST, ___.\\n\\nINDICATION:  Renal cel...</td>\n",
       "      <td>NaN</td>\n",
       "      <td>NaN</td>\n",
       "      <td>NaN</td>\n",
       "    </tr>\n",
       "    <tr>\n",
       "      <th>9</th>\n",
       "      <td>10000650-RR-16</td>\n",
       "      <td>INDICATION:  ___ man with fever and cough.\\n\\n...</td>\n",
       "      <td>NaN</td>\n",
       "      <td>NaN</td>\n",
       "      <td>NaN</td>\n",
       "    </tr>\n",
       "  </tbody>\n",
       "</table>\n",
       "</div>"
      ],
      "text/plain": [
       "          note_id                                               text  \\\n",
       "0  10000032-RR-14  EXAMINATION:  CHEST (PA AND LAT)\\n\\nINDICATION...   \n",
       "1  10000032-RR-23  EXAMINATION:  CHEST (PA AND LAT)\\n\\nINDICATION...   \n",
       "2  10000084-RR-12  EXAMINATION:  CHEST (PA AND LAT)\\n\\nINDICATION...   \n",
       "3  10000102-RR-18  CHEST PA AND LATERAL.\\n\\nCOMPARISON:  None.\\n\\...   \n",
       "4  10000117-RR-13  EXAMINATION:   CHEST (PA AND LAT)\\n\\nINDICATIO...   \n",
       "5  10000117-RR-21  EXAMINATION:  Chest radiographs, PA and latera...   \n",
       "6   10000117-RR-8  CHEST RADIOGRAPH PERFORMED.\\n\\nCOMPARISON:  No...   \n",
       "7   10000473-RR-7  EXAMINATION:\\nChest:  Frontal and lateral view...   \n",
       "8  10000560-RR-28  TWO-VIEW CHEST, ___.\\n\\nINDICATION:  Renal cel...   \n",
       "9  10000650-RR-16  INDICATION:  ___ man with fever and cough.\\n\\n...   \n",
       "\n",
       "  pneumonia tuberculosis interstitial_lung_disease  \n",
       "0     False        False                     False  \n",
       "1     False        False                     False  \n",
       "2     False        False                     False  \n",
       "3       NaN          NaN                       NaN  \n",
       "4       NaN          NaN                       NaN  \n",
       "5       NaN          NaN                       NaN  \n",
       "6       NaN          NaN                       NaN  \n",
       "7       NaN          NaN                       NaN  \n",
       "8       NaN          NaN                       NaN  \n",
       "9       NaN          NaN                       NaN  "
      ]
     },
     "execution_count": 29,
     "metadata": {},
     "output_type": "execute_result"
    }
   ],
   "source": [
    "dataset[:10]"
   ]
  },
  {
   "cell_type": "markdown",
   "id": "0dd5f8eb",
   "metadata": {},
   "source": [
    "### 이전과 같은 코드 "
   ]
  },
  {
   "cell_type": "code",
   "execution_count": 30,
   "id": "86808878",
   "metadata": {},
   "outputs": [
    {
     "data": {
      "text/plain": [
       "'EXAMINATION:  CHEST (PA AND LAT)\\n\\nINDICATION:  ___ with hypoxia  // ?pna, aspiration.\\n\\nCOMPARISON:  None\\n\\nFINDINGS: \\n\\nPA and lateral views of the chest provided.   The lungs are adequately\\naerated.\\n\\nThere is a focal consolidation at the left lung base adjacent to the lateral\\nhemidiaphragm. There is mild vascular engorgement. There is bilateral apical\\npleural thickening.\\n\\nThe cardiomediastinal silhouette is remarkable for aortic arch calcifications.\\nThe heart is top normal in size.\\n\\nIMPRESSION: \\n\\nFocal consolidation at the left lung base, possibly representing aspiration or\\npneumonia.\\n\\nCentral vascular engorgement.\\n'"
      ]
     },
     "execution_count": 30,
     "metadata": {},
     "output_type": "execute_result"
    }
   ],
   "source": [
    "radiology_report"
   ]
  },
  {
   "cell_type": "code",
   "execution_count": 35,
   "id": "db3d892c",
   "metadata": {},
   "outputs": [],
   "source": [
    "client = OpenAI(\n",
    "                api_key=api_key #개인 api_key\n",
    "                )\n",
    "\n",
    "response = client.responses.create(\n",
    "  model=\"gpt-5\",\n",
    "  input=[\n",
    "    {\n",
    "      \"role\": \"developer\",\n",
    "      \"content\": [\n",
    "        {\n",
    "          \"type\": \"input_text\",\n",
    "          \"text\": \"다음 방사선 판독에서 폐렴, 결핵, ILD의 존재 여부만 판단해라. 각 항목은 반드시 'yes' 또는 'no'로만 출력하라. 불명확하거나 언급이 없으면 'no'로 하라.\"\n",
    "        }\n",
    "      ]\n",
    "    },\n",
    "    {\n",
    "      \"role\": \"user\",\n",
    "      \"content\": [\n",
    "        {\n",
    "          \"type\": \"input_text\",\n",
    "          \"text\": radiology_report}\n",
    "      ]\n",
    "    }\n",
    "  ],\n",
    "  text={\n",
    "    \"format\": {\n",
    "      \"type\": \"json_schema\",\n",
    "      \"name\": \"xray_event\",\n",
    "      \"strict\": True,\n",
    "      \"schema\": {\n",
    "        \"type\": \"object\",\n",
    "        \"properties\": {\n",
    "          \"pneumonia\": {\n",
    "            \"type\": \"string\",\n",
    "            \"description\": \"Patient has pneumonia ['yes'/'no'] (strict).\",\n",
    "            \"enum\": [\n",
    "              \"yes\",\n",
    "              \"no\"\n",
    "            ]\n",
    "          },\n",
    "          \"tuberculosis\": {\n",
    "            \"type\": \"string\",\n",
    "            \"description\": \"Patient has tuberculosis ['yes'/'no'] (strict).\",\n",
    "            \"enum\": [\n",
    "              \"yes\",\n",
    "              \"no\"\n",
    "            ]\n",
    "          },\n",
    "          \"interstitial_lung_disease\": {\n",
    "            \"type\": \"string\",\n",
    "            \"description\": \"Patient has interstitial lung disease ['yes'/'no'] (strict).\",\n",
    "            \"enum\": [\n",
    "              \"yes\",\n",
    "              \"no\"\n",
    "            ]\n",
    "          }\n",
    "        },\n",
    "        \"required\": [\n",
    "          \"pneumonia\",\n",
    "          \"tuberculosis\",\n",
    "          \"interstitial_lung_disease\"\n",
    "        ],\n",
    "        \"additionalProperties\": False\n",
    "      }\n",
    "    },\n",
    "    \"verbosity\": \"medium\"\n",
    "  },\n",
    "  reasoning={\n",
    "    \"effort\": \"low\"\n",
    "  },\n",
    "  tools=[],\n",
    "  store=True,\n",
    "  include=[\n",
    "    \"reasoning.encrypted_content\",\n",
    "    \"web_search_call.action.sources\"\n",
    "  ]\n",
    ")"
   ]
  },
  {
   "cell_type": "code",
   "execution_count": 31,
   "id": "8fba0efd",
   "metadata": {},
   "outputs": [
    {
     "data": {
      "text/plain": [
       "'{\"pneumonia\":\"yes\",\"tuberculosis\":\"no\",\"interstitial_lung_disease\":\"no\"}'"
      ]
     },
     "execution_count": 31,
     "metadata": {},
     "output_type": "execute_result"
    }
   ],
   "source": [
    "response.output_text"
   ]
  }
 ],
 "metadata": {
  "kernelspec": {
   "display_name": ".venv",
   "language": "python",
   "name": "python3"
  },
  "language_info": {
   "codemirror_mode": {
    "name": "ipython",
    "version": 3
   },
   "file_extension": ".py",
   "mimetype": "text/x-python",
   "name": "python",
   "nbconvert_exporter": "python",
   "pygments_lexer": "ipython3",
   "version": "3.13.5"
  }
 },
 "nbformat": 4,
 "nbformat_minor": 5
}
